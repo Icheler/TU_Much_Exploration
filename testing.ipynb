{
 "cells": [
  {
   "cell_type": "code",
   "execution_count": 1,
   "metadata": {},
   "outputs": [],
   "source": [
    "import numpy as np\n",
    "from skimage import graph\n",
    "import math"
   ]
  },
  {
   "cell_type": "code",
   "execution_count": 2,
   "metadata": {},
   "outputs": [],
   "source": [
    "array_size = 5\n",
    "empty = np.zeros((array_size,array_size), dtype=int)"
   ]
  },
  {
   "cell_type": "code",
   "execution_count": 3,
   "metadata": {},
   "outputs": [
    {
     "data": {
      "text/plain": [
       "array([[-1,  1,  1,  1,  1],\n",
       "       [ 1, -1,  1,  1,  1],\n",
       "       [ 1,  1,  1,  1,  1],\n",
       "       [ 1,  1,  1,  1,  1],\n",
       "       [ 1,  1,  1,  1,  1]])"
      ]
     },
     "execution_count": 3,
     "metadata": {},
     "output_type": "execute_result"
    }
   ],
   "source": [
    "empty[0][0] = 100\n",
    "empty[1][1] = -1\n",
    "empty = np.where(empty > 99, -1, empty)\n",
    "empty = np.where(empty == 0, 1, empty)\n",
    "empty"
   ]
  },
  {
   "cell_type": "code",
   "execution_count": 4,
   "metadata": {},
   "outputs": [
    {
     "name": "stdout",
     "output_type": "stream",
     "text": [
      "[[inf inf  7. inf inf]\n",
      " [ 4. inf  6. inf inf]\n",
      " [ 3.  4.  5.  6.  7.]\n",
      " [ 2.  3.  4.  5.  6.]\n",
      " [ 1.  2.  3.  4.  5.]]\n"
     ]
    }
   ],
   "source": [
    "testing = graph.MCP(costs=empty, fully_connected=False)\n",
    "middle = math.floor(array_size/2)\n",
    "ends = [[0, 2], [2, 2], [4, 4]]\n",
    "starts = [[4, 0]]\n",
    "cost_array, tracebacks_array = testing.find_costs(starts, ends, find_all_ends=True)\n",
    "print(cost_array)"
   ]
  },
  {
   "cell_type": "code",
   "execution_count": 5,
   "metadata": {},
   "outputs": [
    {
     "name": "stdout",
     "output_type": "stream",
     "text": [
      "[7. 5. 0.]\n"
     ]
    }
   ],
   "source": [
    "cost = np.zeros(len(ends[0])+1)\n",
    "for i in range(len(ends[0])):\n",
    "    cost[i] = cost_array[ends[i][0]][ends[i][1]]\n",
    "print(cost)"
   ]
  },
  {
   "cell_type": "code",
   "execution_count": 27,
   "metadata": {},
   "outputs": [],
   "source": [
    "def clean_neighbors(array, indices, clean_area):\n",
    "    result = array\n",
    "    for x,y in indices:\n",
    "        result[x][y] = 1\n",
    "        for dx, dy in clean_area:\n",
    "            result[x+dx][y+dy] = 1\n",
    "    return result"
   ]
  },
  {
   "cell_type": "code",
   "execution_count": 37,
   "metadata": {},
   "outputs": [],
   "source": [
    "def get_clean_area(number):\n",
    "    size = number*2+1\n",
    "    result = []\n",
    "\n",
    "    for i in range(size):\n",
    "        x = i - number\n",
    "        for j in range(size):\n",
    "            y = j - number\n",
    "            result.append([x, y])\n",
    "\n",
    "    return result"
   ]
  },
  {
   "cell_type": "code",
   "execution_count": 41,
   "metadata": {},
   "outputs": [
    {
     "data": {
      "text/plain": [
       "array([[1., 1., 1., 0., 0., 0., 0., 0., 0.],\n",
       "       [1., 1., 1., 0., 0., 0., 0., 0., 0.],\n",
       "       [1., 1., 1., 0., 0., 0., 0., 0., 0.],\n",
       "       [0., 0., 0., 1., 1., 1., 0., 0., 0.],\n",
       "       [0., 0., 0., 1., 1., 1., 0., 0., 0.],\n",
       "       [0., 0., 0., 1., 1., 1., 0., 0., 0.],\n",
       "       [0., 0., 0., 0., 0., 0., 0., 0., 0.],\n",
       "       [0., 0., 0., 0., 0., 0., 0., 0., 0.],\n",
       "       [0., 0., 0., 0., 0., 0., 0., 0., 0.]])"
      ]
     },
     "execution_count": 41,
     "metadata": {},
     "output_type": "execute_result"
    }
   ],
   "source": [
    "test_2 = np.zeros((9, 9))\n",
    "cleaner = get_clean_area(1)\n",
    "test_2 = clean_neighbors(test_2, [[4, 4], [1, 1]], cleaner)\n",
    "test_2"
   ]
  },
  {
   "cell_type": "code",
   "execution_count": null,
   "metadata": {},
   "outputs": [],
   "source": []
  }
 ],
 "metadata": {
  "interpreter": {
   "hash": "84265620a44e3deb042131088fbc2b06029189a4e9b2d4444f498da83725b8ca"
  },
  "kernelspec": {
   "display_name": "Python 3.8.3 ('i2dl')",
   "language": "python",
   "name": "python3"
  },
  "language_info": {
   "codemirror_mode": {
    "name": "ipython",
    "version": 3
   },
   "file_extension": ".py",
   "mimetype": "text/x-python",
   "name": "python",
   "nbconvert_exporter": "python",
   "pygments_lexer": "ipython3",
   "version": "3.8.3"
  },
  "orig_nbformat": 4
 },
 "nbformat": 4,
 "nbformat_minor": 2
}
