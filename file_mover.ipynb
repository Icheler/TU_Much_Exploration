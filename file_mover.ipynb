{
 "cells": [
  {
   "cell_type": "code",
   "execution_count": 9,
   "metadata": {},
   "outputs": [],
   "source": [
    "import os\n",
    "import shutil"
   ]
  },
  {
   "cell_type": "markdown",
   "metadata": {},
   "source": [
    "This file just moves captured data from the overall pool into the map_specific pools."
   ]
  },
  {
   "cell_type": "code",
   "execution_count": 10,
   "metadata": {},
   "outputs": [],
   "source": [
    "def file_mover(source_folder, type, number):\n",
    "    for file_name in os.listdir(source_folder):\n",
    "        split = file_name.split('_')\n",
    "        source = f'{source_folder}/{file_name}'\n",
    "        destination = 'tme_data/sets'\n",
    "        if split[0] == 'v2':\n",
    "            destination = f'{destination}/v2_maze/{type}/{number}/{file_name}'\n",
    "            if os.path.isfile(source):\n",
    "                shutil.move(source, destination)\n",
    "                print(f'Moved: {file_name}')\n",
    "        elif split[0] == 'marty':\n",
    "            destination = f'{destination}/marty/{type}/{number}/{file_name}'\n",
    "            if os.path.isfile(source):\n",
    "                shutil.move(source, destination)\n",
    "                print(f'Moved: {file_name}')\n",
    "        elif split[0] == 'map':\n",
    "            destination = f'{destination}/map_3/{type}/{number}/{file_name}'\n",
    "            if os.path.isfile(source):\n",
    "                shutil.move(source, destination)\n",
    "                print(f'Moved: {file_name}')\n",
    "        else:\n",
    "            print(f'Something went wrong while moving file {source}')\n",
    "            return -1"
   ]
  },
  {
   "cell_type": "code",
   "execution_count": 11,
   "metadata": {},
   "outputs": [],
   "source": [
    "def move_all_files():\n",
    "    for i in range(2, 6):\n",
    "        source_folder = f'tme_data/coverage/measurements/{i}'\n",
    "        file_mover(source_folder, 'coverage', i)\n",
    "        source_folder = f'tme_data/distances/{i}'\n",
    "        file_mover(source_folder, 'distances', i)"
   ]
  },
  {
   "cell_type": "code",
   "execution_count": 13,
   "metadata": {},
   "outputs": [],
   "source": [
    "move_all_files()"
   ]
  },
  {
   "cell_type": "code",
   "execution_count": null,
   "metadata": {},
   "outputs": [],
   "source": []
  }
 ],
 "metadata": {
  "interpreter": {
   "hash": "84265620a44e3deb042131088fbc2b06029189a4e9b2d4444f498da83725b8ca"
  },
  "kernelspec": {
   "display_name": "Python 3.8.3 64-bit ('i2dl': conda)",
   "language": "python",
   "name": "python3"
  },
  "language_info": {
   "codemirror_mode": {
    "name": "ipython",
    "version": 3
   },
   "file_extension": ".py",
   "mimetype": "text/x-python",
   "name": "python",
   "nbconvert_exporter": "python",
   "pygments_lexer": "ipython3",
   "version": "3.8.3"
  },
  "orig_nbformat": 4
 },
 "nbformat": 4,
 "nbformat_minor": 2
}
