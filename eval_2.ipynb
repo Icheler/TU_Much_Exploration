{
 "cells": [
  {
   "cell_type": "code",
   "execution_count": 1,
   "metadata": {},
   "outputs": [],
   "source": [
    "import os\n",
    "import numpy as np\n",
    "import matplotlib.pyplot as plt"
   ]
  },
  {
   "cell_type": "code",
   "execution_count": 2,
   "metadata": {},
   "outputs": [],
   "source": [
    "path_coverage = 'tme_data/sets/v2_maze/coverage/2'\n",
    "os.chdir(path_coverage)"
   ]
  },
  {
   "cell_type": "code",
   "execution_count": 3,
   "metadata": {},
   "outputs": [],
   "source": [
    "def read_text_file(file_path):\n",
    "    with open(file_path, 'r') as f:\n",
    "        return f.read()"
   ]
  },
  {
   "cell_type": "code",
   "execution_count": 4,
   "metadata": {},
   "outputs": [],
   "source": [
    "def neg_size_check(matrix, size):\n",
    "    result = True\n",
    "    if(matrix.shape[0] == size):\n",
    "        result = False\n",
    "    return result"
   ]
  },
  {
   "cell_type": "code",
   "execution_count": 5,
   "metadata": {},
   "outputs": [],
   "source": [
    "def matrix_build(matrix, limit):\n",
    "    result = matrix\n",
    "    if (neg_size_check(matrix, limit)):\n",
    "        number = limit-matrix.shape[0]\n",
    "        if number < 0:\n",
    "            result = matrix[:limit]\n",
    "        else:\n",
    "            temp_2 = np.full(number, matrix[-1])\n",
    "            result = np.insert(result, -1, temp_2)\n",
    "    return result"
   ]
  },
  {
   "cell_type": "code",
   "execution_count": 6,
   "metadata": {},
   "outputs": [],
   "source": [
    "def min_mean_max_extraction(matrix):\n",
    "    result = np.empty(3)\n",
    "    result[0] = np.min(matrix)\n",
    "    result[1] = np.mean(matrix)\n",
    "    result[2] = np.max(matrix)\n",
    "    return result"
   ]
  },
  {
   "cell_type": "code",
   "execution_count": 7,
   "metadata": {},
   "outputs": [],
   "source": [
    "def min_median_max_extraction(matrix):\n",
    "    result = np.empty(3)\n",
    "    result[0] = np.min(matrix)\n",
    "    result[1] = np.median(matrix)\n",
    "    result[2] = np.max(matrix)\n",
    "    return result"
   ]
  },
  {
   "cell_type": "code",
   "execution_count": 8,
   "metadata": {},
   "outputs": [],
   "source": [
    "def matrix_splice(matrix, length):\n",
    "    result_distance = matrix[:, 0]\n",
    "    result_count = matrix[:, 0]\n",
    "    result_distance_sum = matrix[:, 0]\n",
    "    result_count_sum = matrix[:, 0]\n",
    "\n",
    "    temp = matrix[:, 1:]\n",
    "\n",
    "    num_1 = length\n",
    "    num_2 = length*2\n",
    "    temp_distance = temp[:, 0:num_1]\n",
    "    temp_count = temp[:, num_1:num_2]\n",
    "    temp_distance_sum = np.sum(temp_distance, axis=1)\n",
    "    temp_count_sum = np.sum(temp_count, axis=1)\n",
    "    result_distance=np.c_[result_distance, temp_distance]\n",
    "    result_count=np.c_[result_count, temp_count]\n",
    "    result_distance_sum = np.c_[result_distance_sum, temp_distance_sum]\n",
    "    result_count_sum = np.c_[result_count_sum, temp_count_sum]\n",
    "        \n",
    "    return result_distance, result_count, result_distance_sum, result_count_sum"
   ]
  },
  {
   "cell_type": "code",
   "execution_count": 9,
   "metadata": {},
   "outputs": [],
   "source": [
    "def matrix_builder(matrix, distance_matrix, limit):\n",
    "    temp = []\n",
    "    for i in range(limit):\n",
    "        temp.append(i*5)\n",
    "    temp = np.array(temp)\n",
    "    result = matrix_build(matrix[0][:, 1], limit)\n",
    "    result_2 = np.array(temp)\n",
    "    result_2 = eighty_build_distance(distance_matrix[0][:,1:], limit)\n",
    "    index_array = []\n",
    "    for i in range(len(matrix)):\n",
    "        temp = matrix[i][:, 1]\n",
    "        temp = matrix_build(temp, limit)\n",
    "        if(i < distance_matrix.shape[0]):\n",
    "            temp_2 = distance_matrix[i][:,1:]\n",
    "            temp_2 = eighty_build_distance(temp_2, limit)\n",
    "            if (temp[-1] > 0.88):\n",
    "                test_passed = False\n",
    "                start_value = -1\n",
    "                index = 0\n",
    "                count = 0\n",
    "                for j in range(limit - 1):\n",
    "                    if (np.abs(temp[j] - temp[j+1]) < 0.002):\n",
    "                        if (temp[j+1] - start_value > 0.002):\n",
    "                            index = j+1\n",
    "                            start_value = temp[j+1]\n",
    "                            count = 0\n",
    "                        if (count >= 20):\n",
    "                            break\n",
    "                        count += 1\n",
    "                    for x in range(len(temp_2[0])):\n",
    "                        if (np.abs(temp_2[j][x] - temp_2[j+1][x]) > 5):\n",
    "                            test_passed = True\n",
    "                if(not test_passed):\n",
    "                    result = np.c_[result, temp]\n",
    "                    result_2 = np.c_[result_2, temp_2]\n",
    "                    index_array.append(index)\n",
    "    index_array = np.array(index_array)\n",
    "    return result, result_2, index_array"
   ]
  },
  {
   "cell_type": "code",
   "execution_count": 10,
   "metadata": {},
   "outputs": [],
   "source": [
    "def eighty_build_distance(matrix, limit):\n",
    "    result = matrix\n",
    "    if (neg_size_check(matrix, limit)):\n",
    "        number = limit-matrix.shape[0]\n",
    "        if number < 0:\n",
    "            result = matrix[:limit]\n",
    "            number = 0\n",
    "        #temp_2 = np.full((number, 4), matrix[-1][:])\n",
    "        #temp_2 = np.repeat(matrix[-1], number, axis=0)\n",
    "        temp_2 = np.tile(matrix[-1], (number, 1))\n",
    "        result = np.append(result, temp_2)\n",
    "        result = result.reshape((limit, -1))\n",
    "    return result"
   ]
  },
  {
   "cell_type": "code",
   "execution_count": 11,
   "metadata": {},
   "outputs": [],
   "source": [
    "def extract_from_file(eval_method):\n",
    "    result = []\n",
    "    \n",
    "    for file in os.listdir():\n",
    "        if file.endswith('.txt'):\n",
    "            file_path =  f\"{file}\"\n",
    "            if(eval_method in file_path):\n",
    "                check = np.loadtxt(file_path)\n",
    "                if check.any() and check.ndim == 2:\n",
    "                    result.append(check)\n",
    "\n",
    "    result = np.array(result)\n",
    "    return result"
   ]
  },
  {
   "cell_type": "code",
   "execution_count": 12,
   "metadata": {},
   "outputs": [],
   "source": [
    "def extraction(map_name, robot_num, eval_methods, limit=100, eval_lower=0, eval_upper=-1):\n",
    "    try: \n",
    "        os.chdir(f'../../{map_name}/coverage/{robot_num}')\n",
    "    except:\n",
    "        os.chdir(f'../../../{map_name}/coverage/{robot_num}')\n",
    "\n",
    "    matrix_coverage = []\n",
    "    len_eval = len(eval_methods)\n",
    "\n",
    "    for i in range(len_eval):\n",
    "        matrix_coverage.append(extract_from_file(eval_methods[i]))\n",
    "\n",
    "    matrix_coverage = np.array(matrix_coverage)\n",
    "\n",
    "    os.chdir(f'../../../{map_name}/distances/{robot_num}')\n",
    "\n",
    "    matrix_distance = []\n",
    "\n",
    "    for i in range(len_eval):\n",
    "        matrix_distance.append(extract_from_file(eval_methods[i]))\n",
    "\n",
    "    matrix_distance = np.array(matrix_distance)\n",
    "        \n",
    "    c_median = np.empty((len_eval, limit))\n",
    "    time = np.empty((len_eval, 3))\n",
    "    c_sum = []\n",
    "    d_sum = []\n",
    "\n",
    "    for i in range(len(eval_methods)):\n",
    "        nearest_c_plot, nearest_d_plot, nearest_time_taken = matrix_builder(matrix_coverage[i], matrix_distance[i], 100)\n",
    "\n",
    "        time_values_nearest = min_median_max_extraction(nearest_time_taken[eval_lower:eval_upper])\n",
    "    \n",
    "        nearest_median = np.median(nearest_c_plot[:, eval_lower:eval_upper], axis=1)\n",
    "        \n",
    "        nearest_d, nearest_c, nearest_c_sum, nearest_d_sum = matrix_splice(nearest_d_plot, robot_num)\n",
    "\n",
    "        nearest_c_sum_median = np.median(nearest_c_sum[:, 1:-1], axis=1)\n",
    "        \n",
    "        nearest_d_sum_median = np.median(nearest_d_sum[:, 1:-1], axis=1)\n",
    "        \n",
    "        c_median[i] = nearest_median\n",
    "        time[i] = time_values_nearest\n",
    "        c_sum.append(nearest_c_sum_median)\n",
    "        d_sum.append(nearest_d_sum_median)\n",
    "\n",
    "    c_sum = np.array(c_sum)\n",
    "    d_sum = np.array(d_sum)\n",
    "\n",
    "    return c_median, time, c_sum, d_sum\n"
   ]
  },
  {
   "cell_type": "code",
   "execution_count": 21,
   "metadata": {},
   "outputs": [
    {
     "data": {
      "text/plain": [
       "\"\\nmarty_2_a, marty_2_b, marty_2_c, marty_2_d = extraction('marty', 2, evals)\\nmarty_3_a, marty_3_b, marty_3_c, marty_3_d = extraction('marty', 3, evals)\\nmarty_4_a, marty_4_b, marty_4_c, marty_4_d = extraction('marty', 4, evals)\\nmarty_5_a, marty_5_b, marty_5_c, marty_5_d = extraction('marty', 5, evals) \""
      ]
     },
     "execution_count": 21,
     "metadata": {},
     "output_type": "execute_result"
    }
   ],
   "source": [
    "evals = ['coExplore', 'coEuclid', 'combined', 'minPos', 'nearest']\n",
    "eval_length = len(evals)\n",
    "\n",
    "map_2_a, map_2_b, map_2_c, map_2_d = extraction('map_3', 2, evals)\n",
    "map_3_a, map_3_b, map_3_c, map_3_d = extraction('map_3', 3, evals)\n",
    "map_4_a, map_4_b, map_4_c, map_4_d = extraction('map_3', 4, evals)\n",
    "map_5_a, map_5_b, map_5_c, map_5_d = extraction('map_3', 5, evals)\n",
    "\n",
    "maze_2_a, maze_2_b, maze_2_c, maze_2_d = extraction('v2_maze', 2, evals)\n",
    "maze_3_a, maze_3_b, maze_3_c, maze_3_d = extraction('v2_maze', 3, evals)\n",
    "maze_4_a, maze_4_b, maze_4_c, maze_4_d = extraction('v2_maze', 4, evals)\n",
    "maze_5_a, maze_5_b, maze_5_c, maze_5_d = extraction('v2_maze', 5, evals)\n",
    "\"\"\"\n",
    "marty_2_a, marty_2_b, marty_2_c, marty_2_d = extraction('marty', 2, evals)\n",
    "marty_3_a, marty_3_b, marty_3_c, marty_3_d = extraction('marty', 3, evals)\n",
    "marty_4_a, marty_4_b, marty_4_c, marty_4_d = extraction('marty', 4, evals)\n",
    "marty_5_a, marty_5_b, marty_5_c, marty_5_d = extraction('marty', 5, evals) \"\"\""
   ]
  },
  {
   "cell_type": "code",
   "execution_count": 22,
   "metadata": {},
   "outputs": [],
   "source": [
    "def mid_compilation(matrix1, matrix2, matrix3, matrix4, index):\n",
    "    result = [matrix1[index][2], matrix2[index][2], matrix3[index][2], matrix4[index][2]]\n",
    "    return result"
   ]
  },
  {
   "cell_type": "code",
   "execution_count": 23,
   "metadata": {},
   "outputs": [
    {
     "data": {
      "image/png": "[encoded data removed]",
      "text/plain": [
       "<Figure size 432x288 with 1 Axes>"
      ]
     },
     "metadata": {
      "needs_background": "light"
     },
     "output_type": "display_data"
    }
   ],
   "source": [
    "map = np.empty((4, eval_length))\n",
    "map[0] = map_2_b[:, 1]\n",
    "map[1] = map_3_b[:, 1]\n",
    "map[2] = map_4_b[:, 1]\n",
    "map[3] = map_5_b[:, 1]\n",
    "map = map * 5\n",
    "plt.plot(map[:,0], label='coExplore')\n",
    "plt.plot(map[:,1], label='coEuclid')\n",
    "plt.plot(map[:,2], label='combined')\n",
    "plt.plot(map[:,3], label='minPos')\n",
    "plt.plot(map[:,4], label='nearest')\n",
    "plt.legend()\n",
    "plt.show()"
   ]
  },
  {
   "cell_type": "code",
   "execution_count": 24,
   "metadata": {},
   "outputs": [
    {
     "data": {
      "image/png": "[encoded data removed]",
      "text/plain": [
       "<Figure size 432x288 with 1 Axes>"
      ]
     },
     "metadata": {
      "needs_background": "light"
     },
     "output_type": "display_data"
    }
   ],
   "source": [
    "maze = np.empty((4, eval_length))\n",
    "maze[0] = maze_2_b[:, 1]\n",
    "maze[1] = maze_3_b[:, 1]\n",
    "maze[2] = maze_4_b[:, 1]\n",
    "maze[3] = maze_5_b[:, 1]\n",
    "maze = maze * 5\n",
    "plt.plot(maze[:,0], label='coExplore')\n",
    "plt.plot(maze[:,1], label='coEuclid')\n",
    "plt.plot(maze[:,2], label='combined')\n",
    "plt.plot(maze[:,3], label='minPos')\n",
    "plt.plot(maze[:,4], label='nearest')\n",
    "plt.legend()\n",
    "plt.show()"
   ]
  },
  {
   "cell_type": "code",
   "execution_count": 17,
   "metadata": {},
   "outputs": [
    {
     "ename": "NameError",
     "evalue": "name 'marty_2_b' is not defined",
     "output_type": "error",
     "traceback": [
      "\u001b[0;31m---------------------------------------------------------------------------\u001b[0m",
      "\u001b[0;31mNameError\u001b[0m                                 Traceback (most recent call last)",
      "\u001b[0;32m<ipython-input-17-ce681065f845>\u001b[0m in \u001b[0;36m<module>\u001b[0;34m\u001b[0m\n\u001b[1;32m      1\u001b[0m \u001b[0mmarty\u001b[0m \u001b[0;34m=\u001b[0m \u001b[0mnp\u001b[0m\u001b[0;34m.\u001b[0m\u001b[0mempty\u001b[0m\u001b[0;34m(\u001b[0m\u001b[0;34m(\u001b[0m\u001b[0;36m4\u001b[0m\u001b[0;34m,\u001b[0m \u001b[0meval_length\u001b[0m\u001b[0;34m)\u001b[0m\u001b[0;34m)\u001b[0m\u001b[0;34m\u001b[0m\u001b[0;34m\u001b[0m\u001b[0m\n\u001b[0;32m----> 2\u001b[0;31m \u001b[0mmarty\u001b[0m\u001b[0;34m[\u001b[0m\u001b[0;36m0\u001b[0m\u001b[0;34m]\u001b[0m \u001b[0;34m=\u001b[0m \u001b[0mmarty_2_b\u001b[0m\u001b[0;34m[\u001b[0m\u001b[0;34m:\u001b[0m\u001b[0;34m,\u001b[0m \u001b[0;36m1\u001b[0m\u001b[0;34m]\u001b[0m\u001b[0;34m\u001b[0m\u001b[0;34m\u001b[0m\u001b[0m\n\u001b[0m\u001b[1;32m      3\u001b[0m \u001b[0mmarty\u001b[0m\u001b[0;34m[\u001b[0m\u001b[0;36m1\u001b[0m\u001b[0;34m]\u001b[0m \u001b[0;34m=\u001b[0m \u001b[0mmarty_3_b\u001b[0m\u001b[0;34m[\u001b[0m\u001b[0;34m:\u001b[0m\u001b[0;34m,\u001b[0m \u001b[0;36m1\u001b[0m\u001b[0;34m]\u001b[0m\u001b[0;34m\u001b[0m\u001b[0;34m\u001b[0m\u001b[0m\n\u001b[1;32m      4\u001b[0m \u001b[0mmarty\u001b[0m\u001b[0;34m[\u001b[0m\u001b[0;36m2\u001b[0m\u001b[0;34m]\u001b[0m \u001b[0;34m=\u001b[0m \u001b[0mmarty_4_b\u001b[0m\u001b[0;34m[\u001b[0m\u001b[0;34m:\u001b[0m\u001b[0;34m,\u001b[0m \u001b[0;36m1\u001b[0m\u001b[0;34m]\u001b[0m\u001b[0;34m\u001b[0m\u001b[0;34m\u001b[0m\u001b[0m\n\u001b[1;32m      5\u001b[0m \u001b[0mmarty\u001b[0m\u001b[0;34m[\u001b[0m\u001b[0;36m3\u001b[0m\u001b[0;34m]\u001b[0m \u001b[0;34m=\u001b[0m \u001b[0mmarty_5_b\u001b[0m\u001b[0;34m[\u001b[0m\u001b[0;34m:\u001b[0m\u001b[0;34m,\u001b[0m \u001b[0;36m1\u001b[0m\u001b[0;34m]\u001b[0m\u001b[0;34m\u001b[0m\u001b[0;34m\u001b[0m\u001b[0m\n",
      "\u001b[0;31mNameError\u001b[0m: name 'marty_2_b' is not defined"
     ]
    }
   ],
   "source": [
    "marty = np.empty((4, eval_length))\n",
    "marty[0] = marty_2_b[:, 1]\n",
    "marty[1] = marty_3_b[:, 1]\n",
    "marty[2] = marty_4_b[:, 1]\n",
    "marty[3] = marty_5_b[:, 1]\n",
    "marty = marty * 5\n",
    "plt.plot(marty[:,0], label='nearest')\n",
    "plt.plot(marty[:,1], label='minPos')\n",
    "plt.plot(marty[:,2], label='coExplore')\n",
    "plt.legend()\n",
    "plt.show()"
   ]
  },
  {
   "cell_type": "code",
   "execution_count": null,
   "metadata": {},
   "outputs": [],
   "source": []
  }
 ],
 "metadata": {
  "interpreter": {
   "hash": "84265620a44e3deb042131088fbc2b06029189a4e9b2d4444f498da83725b8ca"
  },
  "kernelspec": {
   "display_name": "Python 3.8.3 64-bit ('i2dl': conda)",
   "language": "python",
   "name": "python3"
  },
  "language_info": {
   "codemirror_mode": {
    "name": "ipython",
    "version": 3
   },
   "file_extension": ".py",
   "mimetype": "text/x-python",
   "name": "python",
   "nbconvert_exporter": "python",
   "pygments_lexer": "ipython3",
   "version": "3.8.3"
  },
  "orig_nbformat": 4
 },
 "nbformat": 4,
 "nbformat_minor": 2
}
