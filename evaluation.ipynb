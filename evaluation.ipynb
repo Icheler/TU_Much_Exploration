{
 "cells": [
  {
   "cell_type": "code",
   "execution_count": 1,
   "metadata": {},
   "outputs": [],
   "source": [
    "import numpy as np\n",
    "import os\n",
    "import matplotlib.pyplot as plt"
   ]
  },
  {
   "cell_type": "code",
   "execution_count": 2,
   "metadata": {},
   "outputs": [],
   "source": [
    "path_coverage = 'tme_data/sets/v2_maze_2/coverage'\n",
    "path_distances = 'tme_data/sets/v2_maze_2/distances'"
   ]
  },
  {
   "cell_type": "code",
   "execution_count": 3,
   "metadata": {},
   "outputs": [],
   "source": [
    "os.chdir(path_coverage)"
   ]
  },
  {
   "cell_type": "code",
   "execution_count": 4,
   "metadata": {},
   "outputs": [],
   "source": [
    "def read_text_file(file_path):\n",
    "    with open(file_path, 'r') as f:\n",
    "        return f.read()"
   ]
  },
  {
   "cell_type": "code",
   "execution_count": 5,
   "metadata": {},
   "outputs": [],
   "source": [
    "matrix_greedy = []\n",
    "matrix_minPos = []\n",
    "matrix_combined = []\n",
    "matrix_nearest = []\n",
    "for file in os.listdir():\n",
    "    if file.endswith('.txt'):\n",
    "        file_path =  f\"{file}\"\n",
    "        if('greedy' in file_path):\n",
    "            matrix_greedy.append(np.loadtxt(file_path))\n",
    "        if('minPos' in file_path):\n",
    "            matrix_minPos.append(np.loadtxt(file_path))\n",
    "        if('combined' in file_path):\n",
    "            matrix_combined.append(np.loadtxt(file_path))\n",
    "        if('nearest' in file_path):\n",
    "            matrix_nearest.append(np.loadtxt(file_path))"
   ]
  },
  {
   "cell_type": "code",
   "execution_count": 6,
   "metadata": {},
   "outputs": [
    {
     "name": "stdout",
     "output_type": "stream",
     "text": [
      "(30,)\n",
      "(27,)\n",
      "(20,)\n",
      "(29,)\n"
     ]
    }
   ],
   "source": [
    "np_matrix_greedy = np.array(matrix_greedy)\n",
    "np_matrix_minPos = np.array(matrix_minPos)\n",
    "np_matrix_combined = np.array(matrix_combined)\n",
    "np_matrix_nearest = np.array(matrix_nearest)\n",
    "print(np_matrix_greedy.shape)\n",
    "print(np_matrix_minPos.shape)\n",
    "print(np_matrix_combined.shape)\n",
    "print(np_matrix_nearest.shape)"
   ]
  },
  {
   "cell_type": "code",
   "execution_count": 7,
   "metadata": {},
   "outputs": [],
   "source": [
    "def neg_eighty_check(matrix):\n",
    "    result = True\n",
    "    if(matrix.shape[0] == 80):\n",
    "        result = False\n",
    "    return result"
   ]
  },
  {
   "cell_type": "code",
   "execution_count": 8,
   "metadata": {},
   "outputs": [],
   "source": [
    "def eighty_build(matrix):\n",
    "    result = matrix\n",
    "    if (neg_eighty_check(matrix)):\n",
    "        number = 80-matrix.shape[0]\n",
    "        temp_2 = np.full(number, matrix[-1])\n",
    "        result = np.insert(result, -1, temp_2)\n",
    "    return result"
   ]
  },
  {
   "cell_type": "code",
   "execution_count": 9,
   "metadata": {},
   "outputs": [],
   "source": [
    "def matrix_builder(matrix):\n",
    "    temp = []\n",
    "    for i in range(80):\n",
    "        temp.append(i*5)\n",
    "    result = np.array(temp)\n",
    "    result = eighty_build(matrix[0][:, 1])\n",
    "    result = np.append(temp, result)\n",
    "    result = result.reshape((80,2))\n",
    "    for i in range(len(matrix) - 1):\n",
    "        temp = matrix[i+1][:, 1]\n",
    "        temp = eighty_build(temp)\n",
    "        if (temp[-1] > 0.95):\n",
    "            result = np.insert(result, -1, temp, axis=1)\n",
    "            #result = np.append(result, temp, axis=1)\n",
    "    return result"
   ]
  },
  {
   "cell_type": "code",
   "execution_count": 10,
   "metadata": {},
   "outputs": [],
   "source": [
    "nearest_plottable = matrix_builder(np_matrix_nearest[1:])\n",
    "greedy_plottable = matrix_builder(np_matrix_greedy[1:])\n",
    "minPos_plottable = matrix_builder(np_matrix_minPos[1:])\n",
    "combined_plottable = matrix_builder(np_matrix_combined[1:])"
   ]
  },
  {
   "cell_type": "code",
   "execution_count": 14,
   "metadata": {},
   "outputs": [
    {
     "name": "stdout",
     "output_type": "stream",
     "text": [
      "(80, 13)\n",
      "(80, 18)\n",
      "(80, 17)\n",
      "(80, 17)\n"
     ]
    }
   ],
   "source": [
    "print(nearest_plottable.shape)\n",
    "print(greedy_plottable.shape)\n",
    "print(minPos_plottable.shape)\n",
    "print(combined_plottable.shape)"
   ]
  },
  {
   "cell_type": "code",
   "execution_count": 15,
   "metadata": {},
   "outputs": [],
   "source": [
    "nearest_mean = np.mean(nearest_plottable[:,1:-1], axis=1)\n",
    "greedy_mean = np.mean(greedy_plottable[:,1:-1], axis=1)\n",
    "minPos_mean = np.mean(minPos_plottable[:,1:-1], axis=1)\n",
    "combined_mean = np.mean(combined_plottable[:,1:-1], axis=1)"
   ]
  },
  {
   "cell_type": "code",
   "execution_count": 16,
   "metadata": {},
   "outputs": [
    {
     "data": {
      "image/png": "[encoded data removed]",
      "text/plain": [
       "<Figure size 432x288 with 1 Axes>"
      ]
     },
     "metadata": {
      "needs_background": "light"
     },
     "output_type": "display_data"
    }
   ],
   "source": [
    "plt.plot(greedy_mean, label='greedy')\n",
    "plt.plot(nearest_mean, label='nearest')\n",
    "plt.plot(minPos_mean, label='minPos')\n",
    "plt.plot(combined_mean, label='combined')\n",
    "plt.legend()\n",
    "plt.show()"
   ]
  },
  {
   "cell_type": "markdown",
   "metadata": {},
   "source": [
    "TODO:\n",
    "- mean-duration\n",
    "- mean-discovery\n",
    "- #runs\n",
    "- distance measurements and their respective plots\n",
    "  - distance traveled\n",
    "  - distribution between robots\n",
    "    - distance\n",
    "    - #frontiers\n",
    "- do all this for more robots"
   ]
  },
  {
   "cell_type": "markdown",
   "metadata": {},
   "source": []
  }
 ],
 "metadata": {
  "interpreter": {
   "hash": "84265620a44e3deb042131088fbc2b06029189a4e9b2d4444f498da83725b8ca"
  },
  "kernelspec": {
   "display_name": "Python 3.8.3 64-bit ('i2dl': conda)",
   "language": "python",
   "name": "python3"
  },
  "language_info": {
   "codemirror_mode": {
    "name": "ipython",
    "version": 3
   },
   "file_extension": ".py",
   "mimetype": "text/x-python",
   "name": "python",
   "nbconvert_exporter": "python",
   "pygments_lexer": "ipython3",
   "version": "3.8.3"
  },
  "orig_nbformat": 4
 },
 "nbformat": 4,
 "nbformat_minor": 2
}
